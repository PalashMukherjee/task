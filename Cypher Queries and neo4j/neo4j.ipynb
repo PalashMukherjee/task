{
 "cells": [
  {
   "cell_type": "code",
   "execution_count": 1,
   "id": "dd800237",
   "metadata": {},
   "outputs": [
    {
     "name": "stdout",
     "output_type": "stream",
     "text": [
      "Requirement already satisfied: neo4j in c:\\users\\palash\\anaconda3\\lib\\site-packages (5.22.0)\n",
      "Requirement already satisfied: pytz in c:\\users\\palash\\anaconda3\\lib\\site-packages (from neo4j) (2024.1)\n",
      "Note: you may need to restart the kernel to use updated packages.\n"
     ]
    }
   ],
   "source": [
    "pip install neo4j"
   ]
  },
  {
   "cell_type": "code",
   "execution_count": 2,
   "id": "144a93f6",
   "metadata": {},
   "outputs": [],
   "source": [
    "from neo4j import GraphDatabase"
   ]
  },
  {
   "cell_type": "code",
   "execution_count": 3,
   "id": "b4662231",
   "metadata": {},
   "outputs": [],
   "source": [
    "graphdb = GraphDatabase.driver(uri='bolt://localhost:7687',auth=('neo4j','1234neo4j'))"
   ]
  },
  {
   "cell_type": "code",
   "execution_count": 4,
   "id": "87fccd46",
   "metadata": {},
   "outputs": [
    {
     "data": {
      "text/plain": [
       "<neo4j._sync.driver.BoltDriver at 0x2656acb4cd0>"
      ]
     },
     "execution_count": 4,
     "metadata": {},
     "output_type": "execute_result"
    }
   ],
   "source": [
    "graphdb"
   ]
  },
  {
   "cell_type": "code",
   "execution_count": 5,
   "id": "5cc5441c",
   "metadata": {},
   "outputs": [],
   "source": [
    "session = graphdb.session()"
   ]
  },
  {
   "cell_type": "code",
   "execution_count": 6,
   "id": "12cb6276",
   "metadata": {},
   "outputs": [],
   "source": [
    "q1 = \"MATCH (n) return (n)\"\n",
    "nodes = session.run(q1)"
   ]
  },
  {
   "cell_type": "code",
   "execution_count": 7,
   "id": "b435b02f",
   "metadata": {},
   "outputs": [
    {
     "name": "stdout",
     "output_type": "stream",
     "text": [
      "<Record n=<Node element_id='4:83ace098-c735-4d75-b885-2ff2ec9512ed:0' labels=frozenset({'USER'}) properties={'name': 'Palash', 'username': 'pal'}>>\n",
      "<Record n=<Node element_id='4:83ace098-c735-4d75-b885-2ff2ec9512ed:1' labels=frozenset({'course'}) properties={'identifier': 'seo', 'title': 'google seo'}>>\n",
      "<Record n=<Node element_id='4:83ace098-c735-4d75-b885-2ff2ec9512ed:2' labels=frozenset({'USER'}) properties={'name': 'Anirudh', 'username': 'ani'}>>\n",
      "<Record n=<Node element_id='4:83ace098-c735-4d75-b885-2ff2ec9512ed:3' labels=frozenset({'USER'}) properties={'name': 'Anubhav', 'username': 'anu'}>>\n",
      "<Record n=<Node element_id='4:83ace098-c735-4d75-b885-2ff2ec9512ed:4' labels=frozenset({'course'}) properties={'identifier': 'c++', 'title': 'cpp'}>>\n",
      "<Record n=<Node element_id='4:83ace098-c735-4d75-b885-2ff2ec9512ed:5' labels=frozenset({'course'}) properties={'identifier': 'c#', 'title': 'csharp'}>>\n",
      "<Record n=<Node element_id='4:83ace098-c735-4d75-b885-2ff2ec9512ed:6' labels=frozenset({'course'}) properties={'identifier': 'r', 'title': 'r programming'}>>\n",
      "<Record n=<Node element_id='4:83ace098-c735-4d75-b885-2ff2ec9512ed:7' labels=frozenset({'USER'}) properties={'name': 'mohan', 'username': 'monu'}>>\n",
      "<Record n=<Node element_id='4:83ace098-c735-4d75-b885-2ff2ec9512ed:8' labels=frozenset({'USER'}) properties={'name': 'gopal', 'username': 'golu'}>>\n"
     ]
    }
   ],
   "source": [
    "for node in nodes:\n",
    "    print(node)"
   ]
  },
  {
   "cell_type": "code",
   "execution_count": 8,
   "id": "80e55f93",
   "metadata": {},
   "outputs": [],
   "source": [
    "q2 = \"\"\"MATCH (u:USER) WHERE u.username=\"anu\" return u\"\"\"\n",
    "nodes = session.run(q2)"
   ]
  },
  {
   "cell_type": "code",
   "execution_count": 9,
   "id": "6c26fede",
   "metadata": {},
   "outputs": [
    {
     "name": "stdout",
     "output_type": "stream",
     "text": [
      "<Record u=<Node element_id='4:83ace098-c735-4d75-b885-2ff2ec9512ed:3' labels=frozenset({'USER'}) properties={'name': 'Anubhav', 'username': 'anu'}>>\n"
     ]
    }
   ],
   "source": [
    "for n in nodes:\n",
    "    print(n)"
   ]
  },
  {
   "cell_type": "code",
   "execution_count": 12,
   "id": "19316a2a",
   "metadata": {},
   "outputs": [],
   "source": [
    "q3 = '''MATCH (u:USER), (c:course) WHERE u.username='pal' AND c.identifier='r' RETURN EXISTS((u)-[:ENROLLED_IN]->(c))'''\n",
    "nodes = session.run(q3)"
   ]
  },
  {
   "cell_type": "code",
   "execution_count": 13,
   "id": "c5883d2b",
   "metadata": {},
   "outputs": [
    {
     "name": "stdout",
     "output_type": "stream",
     "text": [
      "<Record EXISTS((u)-[:ENROLLED_IN]->(c))=True>\n"
     ]
    }
   ],
   "source": [
    "for node in nodes:\n",
    "    print(node)"
   ]
  },
  {
   "cell_type": "code",
   "execution_count": 14,
   "id": "c1e1d56c",
   "metadata": {},
   "outputs": [],
   "source": [
    "#what is anubhav enrolled in?\n",
    "q4 = \"MATCH (u:USER) WHERE u.username='pal' RETURN u\"\n",
    "nodes = session.run(q4)"
   ]
  },
  {
   "cell_type": "code",
   "execution_count": 21,
   "id": "d63cb25d",
   "metadata": {},
   "outputs": [
    {
     "name": "stdout",
     "output_type": "stream",
     "text": [
      "<Record u=<Node element_id='4:83ace098-c735-4d75-b885-2ff2ec9512ed:0' labels=frozenset({'USER'}) properties={'name': 'Palash', 'username': 'pal'}>>\n"
     ]
    }
   ],
   "source": [
    "for n in nodes:\n",
    "    print(n)"
   ]
  },
  {
   "cell_type": "code",
   "execution_count": 22,
   "id": "5fc24ba7",
   "metadata": {},
   "outputs": [],
   "source": [
    "q5 = '''CREATE (u:USER {name:\"gopal\",username:\"golu\"})'''\n",
    "nodes = session.run(q5)"
   ]
  },
  {
   "cell_type": "code",
   "execution_count": 23,
   "id": "da31cafc",
   "metadata": {},
   "outputs": [
    {
     "data": {
      "text/plain": [
       "<neo4j._sync.work.result.Result at 0x2575e673160>"
      ]
     },
     "execution_count": 23,
     "metadata": {},
     "output_type": "execute_result"
    }
   ],
   "source": [
    "q6 = 'match (n) return n'\n",
    "session.run(q6)"
   ]
  },
  {
   "cell_type": "code",
   "execution_count": 24,
   "id": "9ccbfc48",
   "metadata": {},
   "outputs": [
    {
     "name": "stdout",
     "output_type": "stream",
     "text": [
      "<Record n=<Node element_id='4:83ace098-c735-4d75-b885-2ff2ec9512ed:0' labels=frozenset({'USER'}) properties={'name': 'Palash', 'username': 'pal'}>>\n",
      "<Record n=<Node element_id='4:83ace098-c735-4d75-b885-2ff2ec9512ed:1' labels=frozenset({'course'}) properties={'identifier': 'seo', 'title': 'google seo'}>>\n",
      "<Record n=<Node element_id='4:83ace098-c735-4d75-b885-2ff2ec9512ed:2' labels=frozenset({'USER'}) properties={'name': 'Anirudh', 'username': 'ani'}>>\n",
      "<Record n=<Node element_id='4:83ace098-c735-4d75-b885-2ff2ec9512ed:3' labels=frozenset({'USER'}) properties={'name': 'Anubhav', 'username': 'anu'}>>\n",
      "<Record n=<Node element_id='4:83ace098-c735-4d75-b885-2ff2ec9512ed:4' labels=frozenset({'course'}) properties={'identifier': 'c++', 'title': 'cpp'}>>\n",
      "<Record n=<Node element_id='4:83ace098-c735-4d75-b885-2ff2ec9512ed:5' labels=frozenset({'course'}) properties={'identifier': 'c#', 'title': 'csharp'}>>\n",
      "<Record n=<Node element_id='4:83ace098-c735-4d75-b885-2ff2ec9512ed:6' labels=frozenset({'course'}) properties={'identifier': 'r', 'title': 'r programming'}>>\n",
      "<Record n=<Node element_id='4:83ace098-c735-4d75-b885-2ff2ec9512ed:7' labels=frozenset({'USER'}) properties={'name': 'aditya', 'username': 'adi'}>>\n",
      "<Record n=<Node element_id='4:83ace098-c735-4d75-b885-2ff2ec9512ed:8' labels=frozenset({'USER'}) properties={'name': 'gopal', 'username': 'golu'}>>\n"
     ]
    }
   ],
   "source": [
    "for n in session.run(q6):\n",
    "    print(n)"
   ]
  },
  {
   "cell_type": "code",
   "execution_count": 25,
   "id": "738ff4f6",
   "metadata": {},
   "outputs": [
    {
     "name": "stdout",
     "output_type": "stream",
     "text": [
      "<Record count(n)=9>\n"
     ]
    }
   ],
   "source": [
    "q7 = \"match (n) return count(n)\"\n",
    "for n in session.run(q7):\n",
    "    print(n)"
   ]
  },
  {
   "cell_type": "code",
   "execution_count": null,
   "id": "142b9210",
   "metadata": {},
   "outputs": [],
   "source": []
  }
 ],
 "metadata": {
  "kernelspec": {
   "display_name": "Python 3 (ipykernel)",
   "language": "python",
   "name": "python3"
  },
  "language_info": {
   "codemirror_mode": {
    "name": "ipython",
    "version": 3
   },
   "file_extension": ".py",
   "mimetype": "text/x-python",
   "name": "python",
   "nbconvert_exporter": "python",
   "pygments_lexer": "ipython3",
   "version": "3.9.13"
  }
 },
 "nbformat": 4,
 "nbformat_minor": 5
}
